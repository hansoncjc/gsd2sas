{
 "cells": [
  {
   "cell_type": "code",
   "execution_count": 1,
   "id": "fe8e114b",
   "metadata": {},
   "outputs": [],
   "source": [
    "import gsdio\n",
    "import utils\n",
    "import numpy as np"
   ]
  },
  {
   "cell_type": "code",
   "execution_count": 2,
   "id": "54ec97fa",
   "metadata": {},
   "outputs": [],
   "source": [
    "gsdio.extract_positions('1.gsd', '1.txt')"
   ]
  },
  {
   "cell_type": "code",
   "execution_count": 3,
   "id": "8516a7ea",
   "metadata": {},
   "outputs": [],
   "source": [
    "[x,box] = utils.read_configuration('1.txt', frame=1)"
   ]
  },
  {
   "cell_type": "code",
   "execution_count": 4,
   "id": "1f8604a6",
   "metadata": {},
   "outputs": [
    {
     "data": {
      "text/plain": [
       "(1, 8000, 3)"
      ]
     },
     "execution_count": 4,
     "metadata": {},
     "output_type": "execute_result"
    }
   ],
   "source": [
    "x.shape"
   ]
  },
  {
   "cell_type": "code",
   "execution_count": 5,
   "id": "2cdb158f",
   "metadata": {},
   "outputs": [],
   "source": [
    "cell,_ = utils.cell_list(x,box,box/300)"
   ]
  },
  {
   "cell_type": "code",
   "execution_count": 6,
   "id": "059bc2bd",
   "metadata": {},
   "outputs": [
    {
     "data": {
      "text/plain": [
       "array([[140, 141, 197],\n",
       "       [204, 221, 184],\n",
       "       [208, 141, 185],\n",
       "       ...,\n",
       "       [130,  78, 214],\n",
       "       [235, 122, 136],\n",
       "       [ 94, 160, 137]])"
      ]
     },
     "execution_count": 6,
     "metadata": {},
     "output_type": "execute_result"
    }
   ],
   "source": [
    "cell"
   ]
  },
  {
   "cell_type": "code",
   "execution_count": 7,
   "id": "396c6af7",
   "metadata": {},
   "outputs": [
    {
     "data": {
      "text/plain": [
       "array([140, 204, 208, ..., 130, 235,  94])"
      ]
     },
     "execution_count": 7,
     "metadata": {},
     "output_type": "execute_result"
    }
   ],
   "source": [
    "cell[:,0]"
   ]
  },
  {
   "cell_type": "code",
   "execution_count": 8,
   "id": "17b1797f",
   "metadata": {},
   "outputs": [
    {
     "name": "stdout",
     "output_type": "stream",
     "text": [
      "[0 1 3 9]\n"
     ]
    }
   ],
   "source": [
    "import numpy as np\n",
    "\n",
    "cells = np.array([[0, 0, 0],\n",
    "                  [1, 0, 0],\n",
    "                  [0, 1, 0],\n",
    "                  [0, 0, 1]])  # 0-based\n",
    "N_grid = (3, 3, 3)\n",
    "\n",
    "lincell = np.ravel_multi_index((cells[:, 0], cells[:, 1], cells[:, 2]), dims=N_grid, order='F')\n",
    "print(lincell)\n"
   ]
  },
  {
   "cell_type": "code",
   "execution_count": 9,
   "id": "9866e33b",
   "metadata": {},
   "outputs": [],
   "source": [
    "import scipy.io\n",
    "\n",
    "mat = scipy.io.loadmat('/Users/hanson/Documents/UW/Research - Sherman Pozzo Lab/Simulation/Structure Factor/matlab.mat')\n"
   ]
  },
  {
   "cell_type": "code",
   "execution_count": 10,
   "id": "8d6639ac",
   "metadata": {},
   "outputs": [],
   "source": [
    "x_matlab = mat['x']\n",
    "x_matlab = np.transpose(x_matlab, (2, 0, 1))  # → (101, 8000, 3)\n"
   ]
  },
  {
   "cell_type": "code",
   "execution_count": 11,
   "id": "1eaa3447",
   "metadata": {},
   "outputs": [
    {
     "data": {
      "text/plain": [
       "(101, 8000, 3)"
      ]
     },
     "execution_count": 11,
     "metadata": {},
     "output_type": "execute_result"
    }
   ],
   "source": [
    "x_matlab.shape"
   ]
  },
  {
   "cell_type": "code",
   "execution_count": 12,
   "id": "7b9ed795",
   "metadata": {},
   "outputs": [
    {
     "name": "stdout",
     "output_type": "stream",
     "text": [
      "Position max diff: 149.62881\n"
     ]
    }
   ],
   "source": [
    "print(\"Position max diff:\", np.max(np.abs(x - x_matlab)))"
   ]
  },
  {
   "cell_type": "code",
   "execution_count": 13,
   "id": "d1c61f7c",
   "metadata": {},
   "outputs": [],
   "source": [
    "import structurefactor\n",
    "[qx,qy,qz] = structurefactor.compute_q3_grid(x,box,300)"
   ]
  },
  {
   "cell_type": "code",
   "execution_count": 14,
   "id": "157af106",
   "metadata": {},
   "outputs": [
    {
     "data": {
      "text/plain": [
       "(300, 300, 300)"
      ]
     },
     "execution_count": 14,
     "metadata": {},
     "output_type": "execute_result"
    }
   ],
   "source": [
    "qx.shape"
   ]
  },
  {
   "cell_type": "markdown",
   "id": "19e1c236",
   "metadata": {},
   "source": [
    "## q3grid verification"
   ]
  },
  {
   "cell_type": "code",
   "execution_count": 15,
   "id": "bb19b35c",
   "metadata": {},
   "outputs": [],
   "source": [
    "q3xmat = scipy.io.loadmat('/Users/hanson/Documents/UW/Research - Sherman Pozzo Lab/Simulation/Structure Factor/q3x.mat')['q_3_x']\n",
    "q3ymat = scipy.io.loadmat('/Users/hanson/Documents/UW/Research - Sherman Pozzo Lab/Simulation/Structure Factor/q3y.mat')['q_3_y']\n",
    "q3zmat = scipy.io.loadmat('/Users/hanson/Documents/UW/Research - Sherman Pozzo Lab/Simulation/Structure Factor/q3z.mat')['q_3_z']\n"
   ]
  },
  {
   "cell_type": "code",
   "execution_count": 16,
   "id": "76b67e40",
   "metadata": {},
   "outputs": [
    {
     "data": {
      "text/plain": [
       "(300, 300, 300)"
      ]
     },
     "execution_count": 16,
     "metadata": {},
     "output_type": "execute_result"
    }
   ],
   "source": [
    "q3xmat.shape"
   ]
  },
  {
   "cell_type": "code",
   "execution_count": 17,
   "id": "e56dad9b",
   "metadata": {},
   "outputs": [
    {
     "name": "stdout",
     "output_type": "stream",
     "text": [
      "max diff: 0.0\n",
      "max diff: 0.0\n",
      "max diff: 0.0\n"
     ]
    }
   ],
   "source": [
    "print(\"max diff:\", np.max(np.abs(qx - q3xmat)))\n",
    "print(\"max diff:\", np.max(np.abs(qy - q3ymat)))\n",
    "print(\"max diff:\", np.max(np.abs(qz - q3zmat)))"
   ]
  },
  {
   "cell_type": "markdown",
   "id": "dc46d84a",
   "metadata": {},
   "source": [
    "## S3 Verification"
   ]
  },
  {
   "cell_type": "code",
   "execution_count": 18,
   "id": "33876c95",
   "metadata": {},
   "outputs": [],
   "source": [
    "import structurefactor as s"
   ]
  },
  {
   "cell_type": "code",
   "execution_count": 19,
   "id": "b27b4d5d",
   "metadata": {},
   "outputs": [
    {
     "name": "stdout",
     "output_type": "stream",
     "text": [
      "8000\n"
     ]
    }
   ],
   "source": [
    "s3,_, xgrid, xgrid_re, lincell, bins = s.compute_s_3d(x,box,300)"
   ]
  },
  {
   "cell_type": "code",
   "execution_count": 20,
   "id": "6f4f6297",
   "metadata": {},
   "outputs": [
    {
     "name": "stdout",
     "output_type": "stream",
     "text": [
      "[[[1.+0.j 1.+0.j]\n",
      "  [1.+0.j 1.+0.j]]\n",
      "\n",
      " [[1.+0.j 1.+0.j]\n",
      "  [1.+0.j 1.+0.j]]]\n"
     ]
    }
   ],
   "source": [
    "xgrid = np.zeros((2,2,2), order='F')\n",
    "xgrid[0,0,0] = 1\n",
    "print(np.fft.fftn(xgrid))\n"
   ]
  },
  {
   "cell_type": "code",
   "execution_count": 21,
   "id": "68fe3217",
   "metadata": {},
   "outputs": [
    {
     "name": "stdout",
     "output_type": "stream",
     "text": [
      "Is xgrid Fortran-contiguous? True\n",
      "Is xgrid C-contiguous? False\n"
     ]
    }
   ],
   "source": [
    "print(\"Is xgrid Fortran-contiguous?\", xgrid.flags['F_CONTIGUOUS'])\n",
    "print(\"Is xgrid C-contiguous?\", xgrid.flags['C_CONTIGUOUS'])\n"
   ]
  },
  {
   "cell_type": "code",
   "execution_count": 22,
   "id": "695a1685",
   "metadata": {},
   "outputs": [
    {
     "name": "stdout",
     "output_type": "stream",
     "text": [
      "Sample xgrid values: [0 0 0 0 0 0 0 0 0 0]\n",
      "Sample FFT: [8000.          +0.j         -122.46904295  -3.85831935j\n",
      " -327.86708405 -37.05619302j -454.36074458 -89.66572307j\n",
      " -470.59186116 -76.16196744j -105.19009666-422.94349444j\n",
      "  -22.41128472+317.77133373j  265.82903908 -61.34760157j\n",
      "   45.9653934 +153.36868575j -249.8675408  +60.6479133j ]\n"
     ]
    }
   ],
   "source": [
    "from numpy.fft import fftn, fftshift\n",
    "print(\"Sample xgrid values:\", xgrid_re.flat[:10])\n",
    "print(\"Sample FFT:\", fftn(xgrid_re).flat[:10])\n",
    "fftnpy = fftn(xgrid_re)\n",
    "fftshifted = fftshift(fftnpy)\n",
    "s3_manual = np.abs(fftshifted)**2/8000\n"
   ]
  },
  {
   "cell_type": "code",
   "execution_count": 23,
   "id": "e5ca59e0",
   "metadata": {},
   "outputs": [],
   "source": [
    "fftnmat = scipy.io.loadmat('/Users/hanson/Documents/UW/Research - Sherman Pozzo Lab/Simulation/Structure Factor/fftnmat.mat')['fftnresult']\n",
    "fftshiftmat = scipy.io.loadmat('/Users/hanson/Documents/UW/Research - Sherman Pozzo Lab/Simulation/Structure Factor/fftshiftresult.mat')['fftshiftresult']\n",
    "s3mat = scipy.io.loadmat('/Users/hanson/Documents/UW/Research - Sherman Pozzo Lab/Simulation/Structure Factor/s3mat.mat')['s3']"
   ]
  },
  {
   "cell_type": "code",
   "execution_count": 24,
   "id": "3ff7e5f8",
   "metadata": {},
   "outputs": [
    {
     "name": "stdout",
     "output_type": "stream",
     "text": [
      "Scale difference: 1.0\n"
     ]
    }
   ],
   "source": [
    "scale_ratio = np.max(np.abs(s3_manual)) / np.max(np.abs(s3mat))\n",
    "print(\"Scale difference:\", scale_ratio)\n"
   ]
  },
  {
   "cell_type": "code",
   "execution_count": 25,
   "id": "fde35e34",
   "metadata": {},
   "outputs": [
    {
     "data": {
      "text/plain": [
       "(300, 300, 300)"
      ]
     },
     "execution_count": 25,
     "metadata": {},
     "output_type": "execute_result"
    }
   ],
   "source": [
    "s3mat.shape"
   ]
  },
  {
   "cell_type": "code",
   "execution_count": 26,
   "id": "12aa892d",
   "metadata": {},
   "outputs": [
    {
     "name": "stdout",
     "output_type": "stream",
     "text": [
      "8.526512829121202e-14\n"
     ]
    }
   ],
   "source": [
    "print(np.max(np.abs(s3 - s3mat)))"
   ]
  },
  {
   "cell_type": "code",
   "execution_count": 27,
   "id": "dae9d2c3",
   "metadata": {},
   "outputs": [
    {
     "data": {
      "text/plain": [
       "array([17772440, 16626504, 16692508, ..., 19283530, 12276835, 12378094])"
      ]
     },
     "execution_count": 27,
     "metadata": {},
     "output_type": "execute_result"
    }
   ],
   "source": [
    "lincell"
   ]
  },
  {
   "cell_type": "code",
   "execution_count": 28,
   "id": "7072730c",
   "metadata": {},
   "outputs": [
    {
     "name": "stdout",
     "output_type": "stream",
     "text": [
      "Sum xgrid: 1.0\n",
      "Max of xgrid: 1.0\n",
      "Nonzero count: 1\n"
     ]
    }
   ],
   "source": [
    "print(\"Sum xgrid:\", np.sum(xgrid))  # should be N\n",
    "print(\"Max of xgrid:\", np.max(xgrid))\n",
    "print(\"Nonzero count:\", np.count_nonzero(xgrid))\n"
   ]
  },
  {
   "cell_type": "code",
   "execution_count": 29,
   "id": "d5938d08",
   "metadata": {},
   "outputs": [],
   "source": [
    "xgridmat = scipy.io.loadmat('/Users/hanson/Documents/UW/Research - Sherman Pozzo Lab/Simulation/Structure Factor/xgridmat.mat')['xgrid']"
   ]
  },
  {
   "cell_type": "code",
   "execution_count": 30,
   "id": "d5be678e",
   "metadata": {},
   "outputs": [
    {
     "data": {
      "text/plain": [
       "(300, 300, 300)"
      ]
     },
     "execution_count": 30,
     "metadata": {},
     "output_type": "execute_result"
    }
   ],
   "source": [
    "s3.shape"
   ]
  },
  {
   "cell_type": "code",
   "execution_count": 31,
   "id": "152a0007",
   "metadata": {},
   "outputs": [
    {
     "data": {
      "text/plain": [
       "(300, 300, 300)"
      ]
     },
     "execution_count": 31,
     "metadata": {},
     "output_type": "execute_result"
    }
   ],
   "source": [
    "s3mat.shape"
   ]
  },
  {
   "cell_type": "code",
   "execution_count": 32,
   "id": "3f9df972",
   "metadata": {},
   "outputs": [
    {
     "name": "stdout",
     "output_type": "stream",
     "text": [
      "8.526512829121202e-14\n"
     ]
    }
   ],
   "source": [
    "print(np.max(np.abs(s3 - s3mat)))"
   ]
  },
  {
   "cell_type": "code",
   "execution_count": 33,
   "id": "707918a9",
   "metadata": {},
   "outputs": [],
   "source": [
    "q1mat = scipy.io.loadmat('/Users/hanson/Documents/UW/Research - Sherman Pozzo Lab/Simulation/Structure Factor/q1mat')['q_1_bin']"
   ]
  },
  {
   "cell_type": "code",
   "execution_count": 34,
   "id": "f09f17fe",
   "metadata": {},
   "outputs": [
    {
     "name": "stdout",
     "output_type": "stream",
     "text": [
      "8000\n",
      "0.041987532865014866\n"
     ]
    }
   ],
   "source": [
    "q1bin, s1 = s.compute_s_1d(x,box,300)"
   ]
  },
  {
   "cell_type": "code",
   "execution_count": 35,
   "id": "2b99e3c2",
   "metadata": {},
   "outputs": [
    {
     "data": {
      "text/plain": [
       "array([0.        , 0.04198753, 0.08397507, 0.1259626 , 0.16795013,\n",
       "       0.20993766, 0.2519252 , 0.29391273, 0.33590026, 0.3778878 ])"
      ]
     },
     "execution_count": 35,
     "metadata": {},
     "output_type": "execute_result"
    }
   ],
   "source": [
    "q1bin[0:10]"
   ]
  },
  {
   "cell_type": "code",
   "execution_count": 36,
   "id": "05d0e033",
   "metadata": {},
   "outputs": [
    {
     "data": {
      "text/plain": [
       "array([8.00000000e+03, 2.58811523e+00, 8.61865247e+00, 9.98720680e+00,\n",
       "       1.22103738e+01, 1.32827608e+01, 1.30929600e+01, 1.21145266e+01,\n",
       "       1.37825182e+01, 1.21787085e+01, 1.29127994e+01, 1.14866741e+01,\n",
       "       1.10949041e+01, 9.90325580e+00, 9.04631465e+00, 7.94546176e+00,\n",
       "       7.37315306e+00, 6.32267407e+00, 5.49591654e+00, 4.85298508e+00,\n",
       "       4.30289952e+00, 3.64634506e+00, 3.05466660e+00, 2.69497858e+00,\n",
       "       2.35147106e+00, 2.03542267e+00, 1.69253231e+00, 1.45265787e+00,\n",
       "       1.23435606e+00, 1.03921863e+00, 9.04871027e-01, 7.38222677e-01,\n",
       "       6.49182205e-01, 5.63663705e-01, 4.93052197e-01, 4.37720906e-01,\n",
       "       3.93017978e-01, 3.62829444e-01, 3.43346691e-01, 3.25900309e-01,\n",
       "       3.17348620e-01, 3.04721097e-01, 3.02246274e-01, 3.02023443e-01,\n",
       "       3.00505199e-01, 3.03039083e-01, 3.05179485e-01, 3.02780902e-01,\n",
       "       3.05658582e-01, 3.09093761e-01, 3.09000121e-01, 3.17679294e-01,\n",
       "       3.14580252e-01, 3.19656316e-01, 3.20541645e-01, 3.23479026e-01,\n",
       "       3.27334034e-01, 3.34750031e-01, 3.35710514e-01, 3.42848102e-01,\n",
       "       3.51553430e-01, 3.61895002e-01, 3.75454563e-01, 3.86945347e-01,\n",
       "       4.06772802e-01, 4.24272020e-01, 4.49598813e-01, 4.72586749e-01,\n",
       "       5.03981074e-01, 5.34556485e-01, 5.70313415e-01, 6.10557493e-01,\n",
       "       6.61254844e-01, 7.04685084e-01, 7.56906829e-01, 8.16928551e-01,\n",
       "       8.77160546e-01, 9.36599832e-01, 9.98827270e-01, 1.06789062e+00,\n",
       "       1.12079222e+00, 1.20448813e+00, 1.26963138e+00, 1.34045372e+00,\n",
       "       1.39357390e+00, 1.45694520e+00, 1.51275633e+00, 1.58475994e+00,\n",
       "       1.61251900e+00, 1.64730727e+00, 1.68291134e+00, 1.71053580e+00,\n",
       "       1.70806950e+00, 1.70074275e+00, 1.71142255e+00, 1.69396166e+00,\n",
       "       1.65918091e+00, 1.63696455e+00, 1.58880077e+00, 1.54493890e+00,\n",
       "       1.49272579e+00, 1.43363269e+00, 1.37107695e+00, 1.32299531e+00,\n",
       "       1.25620969e+00, 1.20001806e+00, 1.14656350e+00, 1.08696867e+00,\n",
       "       1.03265186e+00, 9.80419487e-01, 9.39732916e-01, 8.89758643e-01,\n",
       "       8.57912156e-01, 8.15729962e-01, 7.92157647e-01, 7.59451755e-01,\n",
       "       7.40938276e-01, 7.22838519e-01, 7.09917479e-01, 6.95461678e-01,\n",
       "       6.87439646e-01, 6.82395963e-01, 6.77958855e-01, 6.77529498e-01,\n",
       "       6.78195325e-01, 6.83721083e-01, 6.92091843e-01, 6.97488583e-01,\n",
       "       7.06400510e-01, 7.18109734e-01, 7.32338393e-01, 7.43411984e-01,\n",
       "       7.57381748e-01, 7.74490970e-01, 7.85774481e-01, 8.06671053e-01,\n",
       "       8.23820858e-01, 8.43733466e-01, 8.62480863e-01, 8.83038250e-01,\n",
       "       9.03162843e-01, 9.17715812e-01, 9.51338599e-01, 9.67542817e-01,\n",
       "       9.87430809e-01, 1.01061988e+00, 1.02607560e+00, 1.04661227e+00,\n",
       "       1.06442946e+00, 1.08050162e+00, 1.09490687e+00, 1.10936977e+00,\n",
       "       1.11924871e+00, 1.12819749e+00, 1.13059171e+00, 1.13880897e+00,\n",
       "       1.14341429e+00, 1.13986652e+00, 1.13950851e+00, 1.13341289e+00,\n",
       "       1.13987024e+00, 1.12706682e+00, 1.12171040e+00, 1.10971278e+00,\n",
       "       1.11121026e+00, 1.09940204e+00, 1.09432654e+00, 1.08532416e+00,\n",
       "       1.08075223e+00, 1.06622502e+00, 1.06892343e+00, 1.05667174e+00,\n",
       "       1.05603943e+00, 1.04901760e+00, 1.04929806e+00, 1.04312618e+00,\n",
       "       1.03821077e+00, 1.02865717e+00, 1.02957615e+00, 1.02968926e+00,\n",
       "       1.02344031e+00, 1.01941543e+00, 1.01753499e+00, 1.01550396e+00,\n",
       "       1.00580165e+00, 1.00848763e+00, 1.00147696e+00, 9.90476223e-01,\n",
       "       9.85143145e-01, 9.74950403e-01, 9.74069045e-01, 9.65275391e-01,\n",
       "       9.62056691e-01, 9.59191943e-01, 9.48813537e-01, 9.49411779e-01,\n",
       "       9.44694573e-01, 9.38444678e-01, 9.29714171e-01, 9.27212459e-01,\n",
       "       9.23413341e-01, 9.23897875e-01, 9.29477359e-01, 9.20124752e-01,\n",
       "       9.23973831e-01, 9.24596482e-01, 9.24118073e-01, 9.36714447e-01,\n",
       "       9.34434255e-01, 9.40604270e-01, 9.54265700e-01, 9.55780148e-01,\n",
       "       9.62465683e-01, 9.71001553e-01, 9.79050108e-01, 9.84412169e-01,\n",
       "       1.00721163e+00, 1.01463706e+00, 1.01797307e+00, 1.02527737e+00,\n",
       "       1.02256807e+00, 1.04198751e+00, 1.04521896e+00, 1.04074700e+00,\n",
       "       1.06435567e+00, 1.05307747e+00, 1.06210911e+00, 1.06669305e+00,\n",
       "       1.07944072e+00, 1.05605886e+00, 1.08481808e+00, 1.06870299e+00,\n",
       "       1.06996784e+00, 1.07106835e+00, 1.02903818e+00, 1.03495013e+00,\n",
       "       1.04860194e+00, 1.03412792e+00, 1.04723122e+00, 1.05021687e+00,\n",
       "       1.01473816e+00, 1.04320300e+00, 9.81772871e-01, 1.02058405e+00,\n",
       "       1.04027829e+00, 1.03568787e+00, 9.74503393e-01, 9.58812138e-01,\n",
       "       9.54394803e-01, 9.42433797e-01, 9.38949804e-01, 9.75123828e-01,\n",
       "       9.32065807e-01, 1.02385312e+00, 9.35727384e-01, 9.08598945e-01,\n",
       "       8.82226332e-01, 9.17671011e-01, 8.14401369e-01, 7.58858431e-01,\n",
       "       5.00000000e-02])"
      ]
     },
     "execution_count": 36,
     "metadata": {},
     "output_type": "execute_result"
    }
   ],
   "source": [
    "s1"
   ]
  },
  {
   "cell_type": "code",
   "execution_count": 39,
   "id": "077495dd",
   "metadata": {},
   "outputs": [
    {
     "data": {
      "text/plain": [
       "[<matplotlib.lines.Line2D at 0x343398310>]"
      ]
     },
     "execution_count": 39,
     "metadata": {},
     "output_type": "execute_result"
    },
    {
     "data": {
      "image/png": "[encoded data removed]",
      "text/plain": [
       "<Figure size 640x480 with 1 Axes>"
      ]
     },
     "metadata": {},
     "output_type": "display_data"
    }
   ],
   "source": [
    "import matplotlib.pyplot as plt\n",
    "plt.loglog(q1bin[1:261],s1[1:261])"
   ]
  },
  {
   "cell_type": "code",
   "execution_count": null,
   "id": "c5a53bf5",
   "metadata": {},
   "outputs": [],
   "source": []
  }
 ],
 "metadata": {
  "kernelspec": {
   "display_name": "hoomd2.9.7",
   "language": "python",
   "name": "python3"
  },
  "language_info": {
   "codemirror_mode": {
    "name": "ipython",
    "version": 3
   },
   "file_extension": ".py",
   "mimetype": "text/x-python",
   "name": "python",
   "nbconvert_exporter": "python",
   "pygments_lexer": "ipython3",
   "version": "3.9.22"
  }
 },
 "nbformat": 4,
 "nbformat_minor": 5
}
